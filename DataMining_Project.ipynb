{
 "cells": [
  {
   "cell_type": "code",
   "execution_count": 1,
   "metadata": {},
   "outputs": [],
   "source": [
    "import pandas as pd"
   ]
  },
  {
   "cell_type": "code",
   "execution_count": 2,
   "metadata": {},
   "outputs": [],
   "source": [
    "df = pd.read_json(\"Sarcasm_Headlines_Dataset.json\", lines = True)"
   ]
  },
  {
   "cell_type": "code",
   "execution_count": 3,
   "metadata": {},
   "outputs": [
    {
     "data": {
      "text/html": [
       "<div>\n",
       "<style scoped>\n",
       "    .dataframe tbody tr th:only-of-type {\n",
       "        vertical-align: middle;\n",
       "    }\n",
       "\n",
       "    .dataframe tbody tr th {\n",
       "        vertical-align: top;\n",
       "    }\n",
       "\n",
       "    .dataframe thead th {\n",
       "        text-align: right;\n",
       "    }\n",
       "</style>\n",
       "<table border=\"1\" class=\"dataframe\">\n",
       "  <thead>\n",
       "    <tr style=\"text-align: right;\">\n",
       "      <th></th>\n",
       "      <th>article_link</th>\n",
       "      <th>headline</th>\n",
       "      <th>is_sarcastic</th>\n",
       "    </tr>\n",
       "  </thead>\n",
       "  <tbody>\n",
       "    <tr>\n",
       "      <th>0</th>\n",
       "      <td>https://www.huffingtonpost.com/entry/versace-b...</td>\n",
       "      <td>former versace store clerk sues over secret 'b...</td>\n",
       "      <td>0</td>\n",
       "    </tr>\n",
       "    <tr>\n",
       "      <th>1</th>\n",
       "      <td>https://www.huffingtonpost.com/entry/roseanne-...</td>\n",
       "      <td>the 'roseanne' revival catches up to our thorn...</td>\n",
       "      <td>0</td>\n",
       "    </tr>\n",
       "    <tr>\n",
       "      <th>2</th>\n",
       "      <td>https://local.theonion.com/mom-starting-to-fea...</td>\n",
       "      <td>mom starting to fear son's web series closest ...</td>\n",
       "      <td>1</td>\n",
       "    </tr>\n",
       "    <tr>\n",
       "      <th>3</th>\n",
       "      <td>https://politics.theonion.com/boehner-just-wan...</td>\n",
       "      <td>boehner just wants wife to listen, not come up...</td>\n",
       "      <td>1</td>\n",
       "    </tr>\n",
       "    <tr>\n",
       "      <th>4</th>\n",
       "      <td>https://www.huffingtonpost.com/entry/jk-rowlin...</td>\n",
       "      <td>j.k. rowling wishes snape happy birthday in th...</td>\n",
       "      <td>0</td>\n",
       "    </tr>\n",
       "  </tbody>\n",
       "</table>\n",
       "</div>"
      ],
      "text/plain": [
       "                                        article_link  \\\n",
       "0  https://www.huffingtonpost.com/entry/versace-b...   \n",
       "1  https://www.huffingtonpost.com/entry/roseanne-...   \n",
       "2  https://local.theonion.com/mom-starting-to-fea...   \n",
       "3  https://politics.theonion.com/boehner-just-wan...   \n",
       "4  https://www.huffingtonpost.com/entry/jk-rowlin...   \n",
       "\n",
       "                                            headline  is_sarcastic  \n",
       "0  former versace store clerk sues over secret 'b...             0  \n",
       "1  the 'roseanne' revival catches up to our thorn...             0  \n",
       "2  mom starting to fear son's web series closest ...             1  \n",
       "3  boehner just wants wife to listen, not come up...             1  \n",
       "4  j.k. rowling wishes snape happy birthday in th...             0  "
      ]
     },
     "execution_count": 3,
     "metadata": {},
     "output_type": "execute_result"
    }
   ],
   "source": [
    "df.head()"
   ]
  },
  {
   "cell_type": "code",
   "execution_count": 4,
   "metadata": {},
   "outputs": [],
   "source": [
    "df = df.drop(['article_link'],axis = 1)"
   ]
  },
  {
   "cell_type": "code",
   "execution_count": 5,
   "metadata": {},
   "outputs": [],
   "source": [
    "import nltk  #importing natural language toolkit for natural language processing\n",
    "from nltk.corpus import stopwords "
   ]
  },
  {
   "cell_type": "code",
   "execution_count": 6,
   "metadata": {},
   "outputs": [
    {
     "name": "stderr",
     "output_type": "stream",
     "text": [
      "[nltk_data] Downloading package stopwords to /home/turjoy/nltk_data...\n",
      "[nltk_data]   Package stopwords is already up-to-date!\n"
     ]
    },
    {
     "data": {
      "text/plain": [
       "True"
      ]
     },
     "execution_count": 6,
     "metadata": {},
     "output_type": "execute_result"
    }
   ],
   "source": [
    "nltk.download('stopwords')"
   ]
  },
  {
   "cell_type": "code",
   "execution_count": 7,
   "metadata": {},
   "outputs": [],
   "source": [
    "from nltk.stem.porter import PorterStemmer #importing porterStemmer  for word stemming thrugh porterstemmer algorithm \n",
    "from sklearn.feature_extraction.text import CountVectorizer #importing countvectorizer for feature extractions\n",
    "import re # re library for regular expressions"
   ]
  },
  {
   "cell_type": "code",
   "execution_count": 8,
   "metadata": {},
   "outputs": [],
   "source": [
    "corpus = []\n",
    "for i in range(0, 26709):\n",
    "    headline = re.sub('[^a-zA-z]',' ',df['headline'][i]) #substitute all non-alphabatic letters through space\n",
    "    headline = headline.lower() #converting all letters into lowercase letters\n",
    "    headline = headline.split() #For tokenizing a sentence into word by word\n",
    "    ps = PorterStemmer() \n",
    "    headline = [ps.stem(word) for word in headline if not word in set(stopwords.words('english')) ] #Stemming tokenized word through porterstemming\n",
    "    headline = ' '.join(headline)#joining all tokenizing word of a sentence again after stemming\n",
    "    corpus.append(headline) #appends all words into a corpus list"
   ]
  },
  {
   "cell_type": "code",
   "execution_count": 9,
   "metadata": {},
   "outputs": [],
   "source": [
    "cv = CountVectorizer(max_features = 3000)\n",
    "x = cv.fit_transform(corpus).toarray() #convert string corpus list into a numeric array through countvectorizer\n",
    "y = df.iloc[:,-1].values"
   ]
  },
  {
   "cell_type": "code",
   "execution_count": 10,
   "metadata": {},
   "outputs": [],
   "source": [
    "from sklearn.model_selection import train_test_split"
   ]
  },
  {
   "cell_type": "code",
   "execution_count": 11,
   "metadata": {},
   "outputs": [],
   "source": [
    "x_train, x_test, y_train, y_test = train_test_split(x,y,test_size = 0.2, random_state = 26)"
   ]
  },
  {
   "cell_type": "code",
   "execution_count": 12,
   "metadata": {},
   "outputs": [],
   "source": [
    "from sklearn import naive_bayes\n",
    "from sklearn.naive_bayes import MultinomialNB"
   ]
  },
  {
   "cell_type": "code",
   "execution_count": 13,
   "metadata": {},
   "outputs": [
    {
     "data": {
      "text/plain": [
       "MultinomialNB(alpha=1.0, class_prior=None, fit_prior=True)"
      ]
     },
     "execution_count": 13,
     "metadata": {},
     "output_type": "execute_result"
    }
   ],
   "source": [
    "clf = naive_bayes.MultinomialNB()\n",
    "clf.fit(x_train, y_train)"
   ]
  },
  {
   "cell_type": "code",
   "execution_count": 14,
   "metadata": {},
   "outputs": [],
   "source": [
    "import pylab as pl\n",
    "from sklearn.metrics import accuracy_score \n",
    "from sklearn.metrics import confusion_matrix\n"
   ]
  },
  {
   "cell_type": "code",
   "execution_count": 15,
   "metadata": {},
   "outputs": [
    {
     "name": "stdout",
     "output_type": "stream",
     "text": [
      "[[2365  647]\n",
      " [ 602 1728]]\n"
     ]
    },
    {
     "data": {
      "image/png": "[encoded data removed]",
      "text/plain": [
       "<Figure size 288x288 with 2 Axes>"
      ]
     },
     "metadata": {
      "needs_background": "light"
     },
     "output_type": "display_data"
    }
   ],
   "source": [
    "y_expect = y_test\n",
    "y_predict = clf.predict(x_test)\n",
    "cm = confusion_matrix(y_expect, y_predict)\n",
    "pl.matshow(cm)\n",
    "print (cm)\n",
    "pl.title('Confusion matrix of the naive_bayes classifier\\n')\n",
    "pl.colorbar()\n",
    "pl.show()\n"
   ]
  },
  {
   "cell_type": "code",
   "execution_count": 16,
   "metadata": {},
   "outputs": [
    {
     "name": "stdout",
     "output_type": "stream",
     "text": [
      "              precision    recall  f1-score   support\n",
      "\n",
      "           0       0.80      0.79      0.79      3012\n",
      "           1       0.73      0.74      0.73      2330\n",
      "\n",
      "   micro avg       0.77      0.77      0.77      5342\n",
      "   macro avg       0.76      0.76      0.76      5342\n",
      "weighted avg       0.77      0.77      0.77      5342\n",
      "\n",
      "76.61924372894046\n"
     ]
    }
   ],
   "source": [
    "from sklearn.metrics import classification_report\n",
    "print(classification_report(y_expect,y_predict))\n",
    "print (accuracy_score(y_expect, y_predict)*100)"
   ]
  },
  {
   "cell_type": "code",
   "execution_count": 17,
   "metadata": {},
   "outputs": [],
   "source": [
    "import numpy as np"
   ]
  },
  {
   "cell_type": "code",
   "execution_count": 18,
   "metadata": {},
   "outputs": [
    {
     "name": "stdout",
     "output_type": "stream",
     "text": [
      "[0]\n",
      "[0]\n",
      "[1]\n",
      "[0]\n",
      "[0]\n"
     ]
    }
   ],
   "source": [
    "review_array=np.array([\"gourmet gifts for the foodie 2014\"])\n",
    "review_vector = cv.transform(review_array )\n",
    "print (clf.predict(review_vector))\n",
    "review_array=np.array([\"israeli ban targeting boycott supporters raises alarm abroad\"])\n",
    "review_vector = cv.transform(review_array )\n",
    "print (clf.predict(review_vector))\n",
    "review_array=np.array([\"boehner just wants wife to listen, not come up with alternative debt-reduction ideas\"])\n",
    "review_vector = cv.transform(review_array )\n",
    "print (clf.predict(review_vector))\n",
    "review_array=np.array([\"mom-starting-to-fear-son-s-web-series-closest-thing-she-1819576697\"])\n",
    "review_vector = cv.transform(review_array )\n",
    "print (clf.predict(review_vector))\n",
    "review_array=np.array([\"j.k. rowling wishes snape happy birthday in the most magical way\"])\n",
    "review_vector = cv.transform(review_array )\n",
    "print (clf.predict(review_vector))"
   ]
  },
  {
   "cell_type": "code",
   "execution_count": 19,
   "metadata": {},
   "outputs": [],
   "source": [
    "from sklearn.tree import DecisionTreeClassifier"
   ]
  },
  {
   "cell_type": "code",
   "execution_count": 20,
   "metadata": {},
   "outputs": [],
   "source": [
    "clf_tree = DecisionTreeClassifier(random_state = 26,max_depth = 3)"
   ]
  },
  {
   "cell_type": "code",
   "execution_count": 21,
   "metadata": {},
   "outputs": [
    {
     "data": {
      "text/plain": [
       "DecisionTreeClassifier(class_weight=None, criterion='gini', max_depth=3,\n",
       "            max_features=None, max_leaf_nodes=None,\n",
       "            min_impurity_decrease=0.0, min_impurity_split=None,\n",
       "            min_samples_leaf=1, min_samples_split=2,\n",
       "            min_weight_fraction_leaf=0.0, presort=False, random_state=26,\n",
       "            splitter='best')"
      ]
     },
     "execution_count": 21,
     "metadata": {},
     "output_type": "execute_result"
    }
   ],
   "source": [
    "clf_tree.fit(x_train,y_train)"
   ]
  },
  {
   "cell_type": "code",
   "execution_count": 22,
   "metadata": {},
   "outputs": [
    {
     "name": "stdout",
     "output_type": "stream",
     "text": [
      "[[2942   70]\n",
      " [2016  314]]\n"
     ]
    },
    {
     "data": {
      "image/png": "[encoded data removed]",
      "text/plain": [
       "<Figure size 288x288 with 2 Axes>"
      ]
     },
     "metadata": {
      "needs_background": "light"
     },
     "output_type": "display_data"
    }
   ],
   "source": [
    "y_expect = y_test\n",
    "y_predict = clf_tree.predict(x_test)\n",
    "cmt = confusion_matrix(y_expect, y_predict)\n",
    "pl.matshow(cmt)\n",
    "print (cmt)\n",
    "pl.title('Confusion matrix of the decision tree classifier\\n')\n",
    "pl.colorbar()\n",
    "pl.show()"
   ]
  },
  {
   "cell_type": "code",
   "execution_count": 23,
   "metadata": {},
   "outputs": [
    {
     "name": "stdout",
     "output_type": "stream",
     "text": [
      "              precision    recall  f1-score   support\n",
      "\n",
      "           0       0.59      0.98      0.74      3012\n",
      "           1       0.82      0.13      0.23      2330\n",
      "\n",
      "   micro avg       0.61      0.61      0.61      5342\n",
      "   macro avg       0.71      0.56      0.48      5342\n",
      "weighted avg       0.69      0.61      0.52      5342\n",
      "\n",
      "60.95095469861476\n"
     ]
    }
   ],
   "source": [
    "from sklearn.metrics import classification_report\n",
    "print(classification_report(y_expect,y_predict))\n",
    "print (accuracy_score(y_expect, y_predict)*100)"
   ]
  },
  {
   "cell_type": "code",
   "execution_count": 24,
   "metadata": {},
   "outputs": [],
   "source": [
    "from sklearn.tree import export_graphviz"
   ]
  },
  {
   "cell_type": "code",
   "execution_count": 25,
   "metadata": {},
   "outputs": [],
   "source": [
    "export_graphviz(clf_tree,out_file='tree.dot', \n",
    "                rounded = True, proportion = False, \n",
    "                precision = 2, filled = True)"
   ]
  },
  {
   "cell_type": "code",
   "execution_count": 26,
   "metadata": {},
   "outputs": [
    {
     "data": {
      "text/plain": [
       "0"
      ]
     },
     "execution_count": 26,
     "metadata": {},
     "output_type": "execute_result"
    }
   ],
   "source": [
    "from subprocess import call\n",
    "call(['dot', '-Tpng', 'tree.dot', '-o', 'tree.png', '-Gdpi=600'])"
   ]
  },
  {
   "cell_type": "code",
   "execution_count": 27,
   "metadata": {
    "scrolled": true
   },
   "outputs": [
    {
     "data": {
      "image/png": "[encoded data removed]",
      "text/plain": [
       "<Figure size 1008x1296 with 1 Axes>"
      ]
     },
     "metadata": {
      "needs_background": "light"
     },
     "output_type": "display_data"
    }
   ],
   "source": [
    "import matplotlib.pyplot as plt\n",
    "plt.figure(figsize = (14, 18))\n",
    "plt.imshow(plt.imread('tree.png'))\n",
    "plt.axis('off');\n",
    "plt.show();"
   ]
  },
  {
   "cell_type": "code",
   "execution_count": 28,
   "metadata": {},
   "outputs": [
    {
     "name": "stdout",
     "output_type": "stream",
     "text": [
      "[0]\n",
      "[0]\n",
      "[0]\n",
      "[0]\n",
      "[0]\n"
     ]
    }
   ],
   "source": [
    "review_array=np.array([\"gourmet gifts for the foodie 2014\"])\n",
    "review_vector = cv.transform(review_array )\n",
    "print (clf_tree.predict(review_vector))\n",
    "review_array=np.array([\"israeli ban targeting boycott supporters raises alarm abroad\"])\n",
    "review_vector = cv.transform(review_array )\n",
    "print (clf_tree.predict(review_vector))\n",
    "review_array=np.array([\"boehner just wants wife to listen, not come up with alternative debt-reduction ideas\"])\n",
    "review_vector = cv.transform(review_array )\n",
    "print (clf_tree.predict(review_vector))\n",
    "review_array=np.array([\"mom-starting-to-fear-son-s-web-series-closest-thing-she-1819576697\"])\n",
    "review_vector = cv.transform(review_array )\n",
    "print (clf_tree.predict(review_vector))\n",
    "review_array=np.array([\"j.k. rowling wishes snape happy birthday in the most magical way\"])\n",
    "review_vector = cv.transform(review_array )\n",
    "print (clf_tree.predict(review_vector))"
   ]
  },
  {
   "cell_type": "code",
   "execution_count": 29,
   "metadata": {},
   "outputs": [
    {
     "name": "stderr",
     "output_type": "stream",
     "text": [
      "Using TensorFlow backend.\n"
     ]
    }
   ],
   "source": [
    "import keras\n",
    "from keras.models import Sequential\n",
    "from keras.layers import Dense"
   ]
  },
  {
   "cell_type": "code",
   "execution_count": 30,
   "metadata": {},
   "outputs": [],
   "source": [
    "classifier = Sequential()\n",
    "classifier.add(Dense(700,kernel_initializer = 'uniform',activation='relu',input_dim=3000))\n",
    "classifier.add(Dense(350,kernel_initializer = 'uniform',activation='relu'))\n",
    "classifier.add(Dense(175, kernel_initializer = 'uniform', activation = 'relu'))\n",
    "classifier.add(Dense(80, kernel_initializer = 'uniform', activation = 'relu'))\n",
    "classifier.add(Dense(40, kernel_initializer = 'uniform', activation = 'relu'))\n",
    "classifier.add(Dense(20, kernel_initializer = 'uniform', activation = 'relu'))\n",
    "classifier.add(Dense(10, kernel_initializer = 'uniform', activation = 'relu'))\n",
    "classifier.add(Dense(1, kernel_initializer = 'uniform', activation = 'sigmoid'))"
   ]
  },
  {
   "cell_type": "code",
   "execution_count": 31,
   "metadata": {},
   "outputs": [
    {
     "name": "stdout",
     "output_type": "stream",
     "text": [
      "Epoch 1/10\n",
      "21367/21367 [==============================] - 36s 2ms/step - loss: 0.5571 - acc: 0.6916\n",
      "Epoch 2/10\n",
      "21367/21367 [==============================] - 36s 2ms/step - loss: 0.3702 - acc: 0.8332\n",
      "Epoch 3/10\n",
      "21367/21367 [==============================] - 36s 2ms/step - loss: 0.1918 - acc: 0.9213\n",
      "Epoch 4/10\n",
      "21367/21367 [==============================] - 40s 2ms/step - loss: 0.0454 - acc: 0.9829\n",
      "Epoch 5/10\n",
      "21367/21367 [==============================] - 41s 2ms/step - loss: 0.0141 - acc: 0.9944\n",
      "Epoch 6/10\n",
      "21367/21367 [==============================] - 40s 2ms/step - loss: 0.0098 - acc: 0.9959\n",
      "Epoch 7/10\n",
      "21367/21367 [==============================] - 45s 2ms/step - loss: 0.0070 - acc: 0.9964\n",
      "Epoch 8/10\n",
      "21367/21367 [==============================] - 39s 2ms/step - loss: 0.0060 - acc: 0.9970\n",
      "Epoch 9/10\n",
      "21367/21367 [==============================] - 43s 2ms/step - loss: 0.0047 - acc: 0.9972\n",
      "Epoch 10/10\n",
      "21367/21367 [==============================] - 46s 2ms/step - loss: 0.0045 - acc: 0.9972\n"
     ]
    },
    {
     "data": {
      "text/plain": [
       "<keras.callbacks.History at 0x7fee7e4fa4a8>"
      ]
     },
     "execution_count": 31,
     "metadata": {},
     "output_type": "execute_result"
    }
   ],
   "source": [
    "classifier.compile(optimizer='adam',loss ='binary_crossentropy',metrics=['accuracy'])\n",
    "classifier.fit(x_train,y_train,epochs=10,batch_size=50)"
   ]
  },
  {
   "cell_type": "code",
   "execution_count": 32,
   "metadata": {},
   "outputs": [
    {
     "name": "stdout",
     "output_type": "stream",
     "text": [
      "[[2495  517]\n",
      " [ 659 1671]]\n"
     ]
    },
    {
     "data": {
      "image/png": "[encoded data removed]",
      "text/plain": [
       "<Figure size 288x288 with 2 Axes>"
      ]
     },
     "metadata": {
      "needs_background": "light"
     },
     "output_type": "display_data"
    }
   ],
   "source": [
    "y_expect = y_test\n",
    "y_predict = classifier.predict(x_test)\n",
    "y_predict = (y_predict > 0.5)\n",
    "cmn = confusion_matrix(y_expect, y_predict)\n",
    "pl.matshow(cmn)\n",
    "print (cmn)\n",
    "pl.title('Confusion matrix of the multilayer perceptron\\n')\n",
    "pl.colorbar()\n",
    "pl.show()"
   ]
  },
  {
   "cell_type": "code",
   "execution_count": 33,
   "metadata": {},
   "outputs": [
    {
     "name": "stdout",
     "output_type": "stream",
     "text": [
      "              precision    recall  f1-score   support\n",
      "\n",
      "           0       0.79      0.83      0.81      3012\n",
      "           1       0.76      0.72      0.74      2330\n",
      "\n",
      "   micro avg       0.78      0.78      0.78      5342\n",
      "   macro avg       0.78      0.77      0.77      5342\n",
      "weighted avg       0.78      0.78      0.78      5342\n",
      "\n",
      "77.98577311868215\n"
     ]
    }
   ],
   "source": [
    "from sklearn.metrics import classification_report\n",
    "print(classification_report(y_expect,y_predict))\n",
    "print (accuracy_score(y_expect, y_predict)*100)"
   ]
  },
  {
   "cell_type": "code",
   "execution_count": 34,
   "metadata": {},
   "outputs": [
    {
     "data": {
      "image/svg+xml": [
       "<svg height=\"629pt\" viewBox=\"0.00 0.00 126.00 629.00\" width=\"126pt\" xmlns=\"http://www.w3.org/2000/svg\" xmlns:xlink=\"http://www.w3.org/1999/xlink\">\n",
       "<g class=\"graph\" id=\"graph0\" transform=\"scale(1 1) rotate(0) translate(4 625)\">\n",
       "<title>G</title>\n",
       "<polygon fill=\"#ffffff\" points=\"-4,4 -4,-625 122,-625 122,4 -4,4\" stroke=\"transparent\"/>\n",
       "<!-- 140659695960192 -->\n",
       "<g class=\"node\" id=\"node1\">\n",
       "<title>140659695960192</title>\n",
       "<polygon fill=\"none\" points=\"8,-511.5 8,-547.5 110,-547.5 110,-511.5 8,-511.5\" stroke=\"#000000\"/>\n",
       "<text fill=\"#000000\" font-family=\"Times,serif\" font-size=\"14.00\" text-anchor=\"middle\" x=\"59\" y=\"-525.8\">dense_1: Dense</text>\n",
       "</g>\n",
       "<!-- 140659695960640 -->\n",
       "<g class=\"node\" id=\"node2\">\n",
       "<title>140659695960640</title>\n",
       "<polygon fill=\"none\" points=\"8,-438.5 8,-474.5 110,-474.5 110,-438.5 8,-438.5\" stroke=\"#000000\"/>\n",
       "<text fill=\"#000000\" font-family=\"Times,serif\" font-size=\"14.00\" text-anchor=\"middle\" x=\"59\" y=\"-452.8\">dense_2: Dense</text>\n",
       "</g>\n",
       "<!-- 140659695960192&#45;&gt;140659695960640 -->\n",
       "<g class=\"edge\" id=\"edge2\">\n",
       "<title>140659695960192-&gt;140659695960640</title>\n",
       "<path d=\"M59,-511.4551C59,-503.3828 59,-493.6764 59,-484.6817\" fill=\"none\" stroke=\"#000000\"/>\n",
       "<polygon fill=\"#000000\" points=\"62.5001,-484.5903 59,-474.5904 55.5001,-484.5904 62.5001,-484.5903\" stroke=\"#000000\"/>\n",
       "</g>\n",
       "<!-- 140659695961312 -->\n",
       "<g class=\"node\" id=\"node3\">\n",
       "<title>140659695961312</title>\n",
       "<polygon fill=\"none\" points=\"8,-365.5 8,-401.5 110,-401.5 110,-365.5 8,-365.5\" stroke=\"#000000\"/>\n",
       "<text fill=\"#000000\" font-family=\"Times,serif\" font-size=\"14.00\" text-anchor=\"middle\" x=\"59\" y=\"-379.8\">dense_3: Dense</text>\n",
       "</g>\n",
       "<!-- 140659695960640&#45;&gt;140659695961312 -->\n",
       "<g class=\"edge\" id=\"edge3\">\n",
       "<title>140659695960640-&gt;140659695961312</title>\n",
       "<path d=\"M59,-438.4551C59,-430.3828 59,-420.6764 59,-411.6817\" fill=\"none\" stroke=\"#000000\"/>\n",
       "<polygon fill=\"#000000\" points=\"62.5001,-411.5903 59,-401.5904 55.5001,-411.5904 62.5001,-411.5903\" stroke=\"#000000\"/>\n",
       "</g>\n",
       "<!-- 140659695963160 -->\n",
       "<g class=\"node\" id=\"node4\">\n",
       "<title>140659695963160</title>\n",
       "<polygon fill=\"none\" points=\"8,-292.5 8,-328.5 110,-328.5 110,-292.5 8,-292.5\" stroke=\"#000000\"/>\n",
       "<text fill=\"#000000\" font-family=\"Times,serif\" font-size=\"14.00\" text-anchor=\"middle\" x=\"59\" y=\"-306.8\">dense_4: Dense</text>\n",
       "</g>\n",
       "<!-- 140659695961312&#45;&gt;140659695963160 -->\n",
       "<g class=\"edge\" id=\"edge4\">\n",
       "<title>140659695961312-&gt;140659695963160</title>\n",
       "<path d=\"M59,-365.4551C59,-357.3828 59,-347.6764 59,-338.6817\" fill=\"none\" stroke=\"#000000\"/>\n",
       "<polygon fill=\"#000000\" points=\"62.5001,-338.5903 59,-328.5904 55.5001,-338.5904 62.5001,-338.5903\" stroke=\"#000000\"/>\n",
       "</g>\n",
       "<!-- 140659695780808 -->\n",
       "<g class=\"node\" id=\"node5\">\n",
       "<title>140659695780808</title>\n",
       "<polygon fill=\"none\" points=\"8,-219.5 8,-255.5 110,-255.5 110,-219.5 8,-219.5\" stroke=\"#000000\"/>\n",
       "<text fill=\"#000000\" font-family=\"Times,serif\" font-size=\"14.00\" text-anchor=\"middle\" x=\"59\" y=\"-233.8\">dense_5: Dense</text>\n",
       "</g>\n",
       "<!-- 140659695963160&#45;&gt;140659695780808 -->\n",
       "<g class=\"edge\" id=\"edge5\">\n",
       "<title>140659695963160-&gt;140659695780808</title>\n",
       "<path d=\"M59,-292.4551C59,-284.3828 59,-274.6764 59,-265.6817\" fill=\"none\" stroke=\"#000000\"/>\n",
       "<polygon fill=\"#000000\" points=\"62.5001,-265.5903 59,-255.5904 55.5001,-265.5904 62.5001,-265.5903\" stroke=\"#000000\"/>\n",
       "</g>\n",
       "<!-- 140659695391520 -->\n",
       "<g class=\"node\" id=\"node6\">\n",
       "<title>140659695391520</title>\n",
       "<polygon fill=\"none\" points=\"8,-146.5 8,-182.5 110,-182.5 110,-146.5 8,-146.5\" stroke=\"#000000\"/>\n",
       "<text fill=\"#000000\" font-family=\"Times,serif\" font-size=\"14.00\" text-anchor=\"middle\" x=\"59\" y=\"-160.8\">dense_6: Dense</text>\n",
       "</g>\n",
       "<!-- 140659695780808&#45;&gt;140659695391520 -->\n",
       "<g class=\"edge\" id=\"edge6\">\n",
       "<title>140659695780808-&gt;140659695391520</title>\n",
       "<path d=\"M59,-219.4551C59,-211.3828 59,-201.6764 59,-192.6817\" fill=\"none\" stroke=\"#000000\"/>\n",
       "<polygon fill=\"#000000\" points=\"62.5001,-192.5903 59,-182.5904 55.5001,-192.5904 62.5001,-192.5903\" stroke=\"#000000\"/>\n",
       "</g>\n",
       "<!-- 140659695489320 -->\n",
       "<g class=\"node\" id=\"node7\">\n",
       "<title>140659695489320</title>\n",
       "<polygon fill=\"none\" points=\"8,-73.5 8,-109.5 110,-109.5 110,-73.5 8,-73.5\" stroke=\"#000000\"/>\n",
       "<text fill=\"#000000\" font-family=\"Times,serif\" font-size=\"14.00\" text-anchor=\"middle\" x=\"59\" y=\"-87.8\">dense_7: Dense</text>\n",
       "</g>\n",
       "<!-- 140659695391520&#45;&gt;140659695489320 -->\n",
       "<g class=\"edge\" id=\"edge7\">\n",
       "<title>140659695391520-&gt;140659695489320</title>\n",
       "<path d=\"M59,-146.4551C59,-138.3828 59,-128.6764 59,-119.6817\" fill=\"none\" stroke=\"#000000\"/>\n",
       "<polygon fill=\"#000000\" points=\"62.5001,-119.5903 59,-109.5904 55.5001,-119.5904 62.5001,-119.5903\" stroke=\"#000000\"/>\n",
       "</g>\n",
       "<!-- 140659695088584 -->\n",
       "<g class=\"node\" id=\"node8\">\n",
       "<title>140659695088584</title>\n",
       "<polygon fill=\"none\" points=\"8,-.5 8,-36.5 110,-36.5 110,-.5 8,-.5\" stroke=\"#000000\"/>\n",
       "<text fill=\"#000000\" font-family=\"Times,serif\" font-size=\"14.00\" text-anchor=\"middle\" x=\"59\" y=\"-14.8\">dense_8: Dense</text>\n",
       "</g>\n",
       "<!-- 140659695489320&#45;&gt;140659695088584 -->\n",
       "<g class=\"edge\" id=\"edge8\">\n",
       "<title>140659695489320-&gt;140659695088584</title>\n",
       "<path d=\"M59,-73.4551C59,-65.3828 59,-55.6764 59,-46.6817\" fill=\"none\" stroke=\"#000000\"/>\n",
       "<polygon fill=\"#000000\" points=\"62.5001,-46.5903 59,-36.5904 55.5001,-46.5904 62.5001,-46.5903\" stroke=\"#000000\"/>\n",
       "</g>\n",
       "<!-- 140659695960808 -->\n",
       "<g class=\"node\" id=\"node9\">\n",
       "<title>140659695960808</title>\n",
       "<polygon fill=\"none\" points=\"0,-584.5 0,-620.5 118,-620.5 118,-584.5 0,-584.5\" stroke=\"#000000\"/>\n",
       "<text fill=\"#000000\" font-family=\"Times,serif\" font-size=\"14.00\" text-anchor=\"middle\" x=\"59\" y=\"-598.8\">140659695960808</text>\n",
       "</g>\n",
       "<!-- 140659695960808&#45;&gt;140659695960192 -->\n",
       "<g class=\"edge\" id=\"edge1\">\n",
       "<title>140659695960808-&gt;140659695960192</title>\n",
       "<path d=\"M59,-584.4551C59,-576.3828 59,-566.6764 59,-557.6817\" fill=\"none\" stroke=\"#000000\"/>\n",
       "<polygon fill=\"#000000\" points=\"62.5001,-557.5903 59,-547.5904 55.5001,-557.5904 62.5001,-557.5903\" stroke=\"#000000\"/>\n",
       "</g>\n",
       "</g>\n",
       "</svg>"
      ],
      "text/plain": [
       "<IPython.core.display.SVG object>"
      ]
     },
     "execution_count": 34,
     "metadata": {},
     "output_type": "execute_result"
    }
   ],
   "source": [
    "from IPython.display import SVG\n",
    "from keras.utils.vis_utils import model_to_dot\n",
    "\n",
    "SVG(model_to_dot(classifier).create(prog='dot', format='svg'))"
   ]
  },
  {
   "cell_type": "code",
   "execution_count": null,
   "metadata": {},
   "outputs": [],
   "source": []
  }
 ],
 "metadata": {
  "kernelspec": {
   "display_name": "Python 3",
   "language": "python",
   "name": "python3"
  },
  "language_info": {
   "codemirror_mode": {
    "name": "ipython",
    "version": 3
   },
   "file_extension": ".py",
   "mimetype": "text/x-python",
   "name": "python",
   "nbconvert_exporter": "python",
   "pygments_lexer": "ipython3",
   "version": "3.6.6"
  }
 },
 "nbformat": 4,
 "nbformat_minor": 2
}
